{
 "cells": [
  {
   "cell_type": "code",
   "execution_count": 1,
   "id": "18652460",
   "metadata": {},
   "outputs": [
    {
     "name": "stdout",
     "output_type": "stream",
     "text": [
      "請輸入公司代碼：（按Enter結束）2303\n",
      "請輸入公司代碼：（按Enter結束）2330\n",
      "請輸入公司代碼：（按Enter結束）2379\n",
      "請輸入公司代碼：（按Enter結束）\n"
     ]
    },
    {
     "data": {
      "text/plain": [
       "['2303', '2330', '2379']"
      ]
     },
     "execution_count": 1,
     "metadata": {},
     "output_type": "execute_result"
    }
   ],
   "source": [
    "cos = []\n",
    "\n",
    "while True:\n",
    "    co = input('請輸入公司代碼：（按Enter結束）')\n",
    "    if co == '':\n",
    "        break\n",
    "    else:\n",
    "        cos.append(co)\n",
    "\n",
    "cos"
   ]
  },
  {
   "cell_type": "code",
   "execution_count": 2,
   "id": "17f7d356",
   "metadata": {},
   "outputs": [],
   "source": [
    "stk = '2330'\n",
    "\n",
    "api_url = 'https://mops.twse.com.tw/mops/web/ajax_t05st10_ifrs'\n",
    "\n",
    "form_data = {'encodeURIComponent': '1',\n",
    "             'step': '1',\n",
    "             'firstin': '1',\n",
    "             'off': '1',\n",
    "             'keyword4': '',\n",
    "             'code1': '',\n",
    "             'TYPEK2': '',\n",
    "             'checkbtn': '' ,\n",
    "             'queryName': 'co_id',\n",
    "             'inpuType': 'co_id',\n",
    "             'TYPEK': 'all',\n",
    "             'isnew': 'true',\n",
    "             'co_id': stk,\n",
    "             'year': '',\n",
    "             'month': ''}"
   ]
  },
  {
   "cell_type": "code",
   "execution_count": 4,
   "id": "05c4abfa",
   "metadata": {},
   "outputs": [],
   "source": [
    "from tool import get_soup"
   ]
  },
  {
   "cell_type": "code",
   "execution_count": 5,
   "id": "2842f476",
   "metadata": {},
   "outputs": [
    {
     "data": {
      "text/plain": [
       "<html>\n",
       "<head>\n",
       "<title>公開資訊觀測站</title>\n",
       "<link href=\"css/css2.css\" media=\"Screen\" rel=\"stylesheet\" type=\"text/css\"/>\n",
       "<script src=\"js/mops2.js\" type=\"text/javascript\"></script>\n",
       "</head>\n",
       "<body>\n",
       "<!-- isnew=true -->\n",
       "<!-- yearmonth=11210 -->\n",
       "<tr><td align=\"left\" class=\"reportCont\">\n",
       "<h3><u><a alt=\"查詢彙總報表\" href=\"/mops/web/t21sc04_ifrs\">查詢彙總報表</a></u></h3>\n",
       "</td></tr>\n",
       "<table class=\"noBorder\" style=\"width: 60%; margin-left: 20%;\">\n",
       "<tr><td align=\"right\">\n",
       "<form action=\"/server-java/t56ques\" method=\"post\">\n",
       "<input name=\"step\" type=\"hidden\" value=\"0\"/>\n",
       "<input name=\"Market\" type=\"hidden\" value=\"sii \"/>\n",
       "<input name=\"SysName\" type=\"hidden\" value=\"營運概況\"/>\n",
       "<input name=\"reportName\" type=\"hidden\" value=\"開立發票及營業收入資訊\"/>\n",
       "<input name=\"colorchg\" type=\"hidden\" value=\"\"/>\n",
       "<input name=\"compID\" type=\"hidden\" value=\"2330\"/>\n",
       "<input name=\"compName\" type=\"hidden\" value=\"\"/>\n",
       "<input name=\"progName\" type=\"hidden\" value=\"t05st10_ifrs\"/>\n",
       "<input name=\"QNum\" type=\"hidden\" value=\"2\"/>\n",
       "<input name=\"Q1N\" type=\"hidden\" value=\"公司代號\"/>\n",
       "<input name=\"Q1V\" type=\"hidden\" value=\"2330\"/>\n",
       "<input name=\"Q2N\" type=\"hidden\" value=\"資料年月\"/>\n",
       "<input name=\"Q2V\" type=\"hidden\" value=\"\"/>\n",
       "</form></td></tr></table>\n",
       "<table align=\"center\" class=\"noBorder\" style=\"width: 60%; margin-left: 20%;\"><tr><td align=\"center\" class=\"compName\">\n",
       "<b>\n",
       "本資料由　(上市公司)\n",
       "台積電　公司提供</b>\n",
       "</td></tr></table>\n",
       "<table align=\"center\" class=\"noBorder\" style=\"width: 60%; margin-left: 20%;\"><td width=\"33%\"></td><td align=\"center\" class=\"reportCont\" width=\"33%\">民國112年10月</td>\n",
       "<td class=\"reportCont\" style=\"text-align:right !important;\" width=\"33%\">單位：新台幣仟元</td></table>\n",
       "<br/>\n",
       "<table align=\"center\" class=\"hasBorder\" style=\"width: 60%; margin-left: 20%;\">\n",
       "<tr>\n",
       "<th class=\"tblHead\">項目</th>\n",
       "<th class=\"tblHead\">營業收入淨額</th>\n",
       "</tr>\n",
       "<tr>\n",
       "<th class=\"tblHead\">本月</th>\n",
       "<td class=\"odd\" style=\"text-align:right !important;\">           243,202,811</td></tr>\n",
       "<tr>\n",
       "<th class=\"tblHead\">去年同期</th>\n",
       "<td class=\"even\" style=\"text-align:right !important;\">           210,265,633</td></tr>\n",
       "<tr>\n",
       "<th class=\"tblHead\">增減金額</th>\n",
       "<td class=\"odd\" style=\"text-align:right !important;\">            32,937,178</td></tr>\n",
       "<tr>\n",
       "<th class=\"tblHead\">增減百分比</th>\n",
       "<td class=\"even\" style=\"text-align:right !important;\">       15.66</td></tr>\n",
       "<tr>\n",
       "<th class=\"tblHead\">本年累計</th>\n",
       "<td class=\"odd\" style=\"text-align:right !important;\">          1,779,409,796</td></tr>\n",
       "<tr>\n",
       "<th class=\"tblHead\">去年累計</th>\n",
       "<td class=\"even\" style=\"text-align:right !important;\">         1,848,625,057</td></tr>\n",
       "<tr>\n",
       "<th class=\"tblHead\">增減金額</th>\n",
       "<td class=\"odd\" style=\"text-align:right !important;\">            -69,215,261</td></tr>\n",
       "<tr>\n",
       "<th class=\"tblHead\">增減百分比</th>\n",
       "<td class=\"even\" style=\"text-align:right !important;\">       -3.74</td></tr>\n",
       "<th class=\"tblHead\" nowrap=\"\">備註 / 營收變化原因說明</th>\n",
       "<td class=\"even\" style=\"text-align:left !important;\">無。</td>\n",
       "</table><br/>\n",
       "<table align=\"center\" class=\"noBorder\" style=\"width: 60%; margin-left: 20%;\">\n",
       "<tr>\n",
       "<td class=\"note\" style=\"text-align:left !important;\">\n",
       "1.各項增減百分比資訊，如數值逾越999999.99或分母為零（無法計算），則以999999.99表示。<br/>\n",
       "2.合併營業收入係將母子公司及各子公司間重複營收部分消除後所得數字。<br/>\n",
       "3.自民國95年1月起,金融業之各項營業收入係以淨額申報，其營業收入淨額係指「淨收益」。<br/>\n",
       "4.上市櫃公司、興櫃公司、及金管會主管之金融業自民國102年起適用IFRSs；非上市上櫃興櫃之公發公司(含金控子公司為公發公司之非金融業、投控子公司為公發公司者)，自民國104年起適用IFRSs。配合IFRSs實施，營業收入係以合併營業收入申報；無子公司者，則以個別營業收入申報；自願提前適用IFRSs者亦同。<br/>\n",
       "5.自民國102年1月起，配合IFRSs實施，金控業之營業收入係以淨額申報，其營業收入淨額係指「淨收益」。<br/>\n",
       "6.上市櫃及興櫃公司，本月營收或本年累計營收較去年同期增減變動達50％以上者，需於備註欄位說明增減變動原因。\n",
       "</td>\n",
       "</tr>\n",
       "</table>\n",
       "<br/><br/>\n",
       "</body>\n",
       "</html>"
      ]
     },
     "execution_count": 5,
     "metadata": {},
     "output_type": "execute_result"
    }
   ],
   "source": [
    "soup = get_soup(api_url, form_data)\n",
    "soup"
   ]
  },
  {
   "cell_type": "code",
   "execution_count": 6,
   "id": "b4d80bfa",
   "metadata": {},
   "outputs": [
    {
     "data": {
      "text/plain": [
       "'台積電'"
      ]
     },
     "execution_count": 6,
     "metadata": {},
     "output_type": "execute_result"
    }
   ],
   "source": [
    "co_name = soup.find_all('table')[1].find('td').text.strip()\n",
    "co_name[13:-5]"
   ]
  },
  {
   "cell_type": "code",
   "execution_count": 7,
   "id": "c5439315",
   "metadata": {},
   "outputs": [
    {
     "data": {
      "text/plain": [
       "'243,202,811'"
      ]
     },
     "execution_count": 7,
     "metadata": {},
     "output_type": "execute_result"
    }
   ],
   "source": [
    "rev = soup.find_all('table')[3].find_all('tr')[1].find('td').text.strip()\n",
    "rev"
   ]
  },
  {
   "cell_type": "code",
   "execution_count": 8,
   "id": "efd08967",
   "metadata": {},
   "outputs": [
    {
     "data": {
      "text/plain": [
       "'15.66'"
      ]
     },
     "execution_count": 8,
     "metadata": {},
     "output_type": "execute_result"
    }
   ],
   "source": [
    "mon_growth = soup.find_all('table')[3].find_all('tr')[4].find('td').text.strip()\n",
    "mon_growth"
   ]
  },
  {
   "cell_type": "code",
   "execution_count": 9,
   "id": "5bf46a91",
   "metadata": {},
   "outputs": [
    {
     "data": {
      "text/plain": [
       "'-3.74'"
      ]
     },
     "execution_count": 9,
     "metadata": {},
     "output_type": "execute_result"
    }
   ],
   "source": [
    "yr_growth = soup.find_all('table')[3].find_all('tr')[8].find('td').text.strip()\n",
    "yr_growth"
   ]
  },
  {
   "cell_type": "code",
   "execution_count": 10,
   "id": "0650a829",
   "metadata": {},
   "outputs": [],
   "source": [
    "datas = []\n",
    "\n",
    "def rev(stk):\n",
    "    api_url = 'https://mops.twse.com.tw/mops/web/ajax_t05st10_ifrs'\n",
    "    form_data = {'encodeURIComponent': '1',\n",
    "             'step': '1',\n",
    "             'firstin': '1',\n",
    "             'off': '1',\n",
    "             'keyword4': '',\n",
    "             'code1': '',\n",
    "             'TYPEK2': '',\n",
    "             'checkbtn': '' ,\n",
    "             'queryName': 'co_id',\n",
    "             'inpuType': 'co_id',\n",
    "             'TYPEK': 'all',\n",
    "             'isnew': 'true',\n",
    "             'co_id': stk,\n",
    "             'year': '',\n",
    "             'month': ''}\n",
    "    soup = get_soup(api_url, form_data)\n",
    "    data=[]\n",
    "    data.append(stk)\n",
    "    data.append(soup.find_all('table')[1].find('td').text.strip()[13:-5])\n",
    "    data.append(soup.find_all('table')[3].find_all('tr')[1].find('td').text.strip())\n",
    "    data.append(soup.find_all('table')[3].find_all('tr')[4].find('td').text.strip())\n",
    "    data.append(soup.find_all('table')[3].find_all('tr')[8].find('td').text.strip())\n",
    "\n",
    "    datas.append(data)\n",
    "    return datas"
   ]
  },
  {
   "cell_type": "code",
   "execution_count": 11,
   "id": "28e1054c",
   "metadata": {},
   "outputs": [
    {
     "name": "stdout",
     "output_type": "stream",
     "text": [
      "正爬取2303的營收資料...\n",
      "正爬取2330的營收資料...\n",
      "正爬取2379的營收資料...\n"
     ]
    },
    {
     "data": {
      "text/plain": [
       "[['2303', '聯電', '19,191,382', '-21.17', '-20.60'],\n",
       " ['2330', '台積電', '243,202,811', '15.66', '-3.74'],\n",
       " ['2379', '瑞昱', '7,865,762', '-2.76', '-18.00']]"
      ]
     },
     "execution_count": 11,
     "metadata": {},
     "output_type": "execute_result"
    }
   ],
   "source": [
    "for co in cos:\n",
    "    print(f'正爬取{co}的營收資料...')\n",
    "    rev(co)\n",
    "\n",
    "datas"
   ]
  },
  {
   "cell_type": "code",
   "execution_count": 12,
   "id": "b68590b0",
   "metadata": {},
   "outputs": [
    {
     "data": {
      "text/html": [
       "<div>\n",
       "<style scoped>\n",
       "    .dataframe tbody tr th:only-of-type {\n",
       "        vertical-align: middle;\n",
       "    }\n",
       "\n",
       "    .dataframe tbody tr th {\n",
       "        vertical-align: top;\n",
       "    }\n",
       "\n",
       "    .dataframe thead th {\n",
       "        text-align: right;\n",
       "    }\n",
       "</style>\n",
       "<table border=\"1\" class=\"dataframe\">\n",
       "  <thead>\n",
       "    <tr style=\"text-align: right;\">\n",
       "      <th></th>\n",
       "      <th>公司代號</th>\n",
       "      <th>公司名稱</th>\n",
       "      <th>本月營收</th>\n",
       "      <th>逐月成長率(%)</th>\n",
       "      <th>同期成長率(%)</th>\n",
       "    </tr>\n",
       "  </thead>\n",
       "  <tbody>\n",
       "    <tr>\n",
       "      <th>0</th>\n",
       "      <td>2303</td>\n",
       "      <td>聯電</td>\n",
       "      <td>19,191,382</td>\n",
       "      <td>-21.17</td>\n",
       "      <td>-20.60</td>\n",
       "    </tr>\n",
       "    <tr>\n",
       "      <th>1</th>\n",
       "      <td>2330</td>\n",
       "      <td>台積電</td>\n",
       "      <td>243,202,811</td>\n",
       "      <td>15.66</td>\n",
       "      <td>-3.74</td>\n",
       "    </tr>\n",
       "    <tr>\n",
       "      <th>2</th>\n",
       "      <td>2379</td>\n",
       "      <td>瑞昱</td>\n",
       "      <td>7,865,762</td>\n",
       "      <td>-2.76</td>\n",
       "      <td>-18.00</td>\n",
       "    </tr>\n",
       "  </tbody>\n",
       "</table>\n",
       "</div>"
      ],
      "text/plain": [
       "   公司代號 公司名稱         本月營收 逐月成長率(%) 同期成長率(%)\n",
       "0  2303   聯電   19,191,382   -21.17   -20.60\n",
       "1  2330  台積電  243,202,811    15.66    -3.74\n",
       "2  2379   瑞昱    7,865,762    -2.76   -18.00"
      ]
     },
     "execution_count": 12,
     "metadata": {},
     "output_type": "execute_result"
    }
   ],
   "source": [
    "import pandas as pd\n",
    "\n",
    "pf = pd.DataFrame(datas, columns = ['公司代號','公司名稱','本月營收','逐月成長率(%)','同期成長率(%)'])\n",
    "pf"
   ]
  },
  {
   "cell_type": "code",
   "execution_count": 13,
   "id": "66df952e",
   "metadata": {},
   "outputs": [],
   "source": [
    "import os\n",
    "\n",
    "path='c:/Users/user/Desktop/'\n",
    "\n"
   ]
  },
  {
   "cell_type": "code",
   "execution_count": null,
   "id": "f5cd3601",
   "metadata": {},
   "outputs": [],
   "source": []
  }
 ],
 "metadata": {
  "kernelspec": {
   "display_name": "Python 3 (ipykernel)",
   "language": "python",
   "name": "python3"
  },
  "language_info": {
   "codemirror_mode": {
    "name": "ipython",
    "version": 3
   },
   "file_extension": ".py",
   "mimetype": "text/x-python",
   "name": "python",
   "nbconvert_exporter": "python",
   "pygments_lexer": "ipython3",
   "version": "3.11.4"
  }
 },
 "nbformat": 4,
 "nbformat_minor": 5
}
